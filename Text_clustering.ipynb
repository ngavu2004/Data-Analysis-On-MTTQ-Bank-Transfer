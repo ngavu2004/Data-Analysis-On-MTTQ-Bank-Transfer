{
  "cells": [
    {
      "cell_type": "markdown",
      "metadata": {
        "id": "KaQdlK1GR5HG"
      },
      "source": [
        "# Text clustering with hot terms and transfer notes"
      ]
    },
    {
      "cell_type": "code",
      "execution_count": null,
      "metadata": {
        "id": "DTZHC42p_NMh"
      },
      "outputs": [],
      "source": [
        "from sklearn.metrics import silhouette_score\n",
        "from sklearn.cluster import KMeans\n",
        "import matplotlib.pyplot as plt\n",
        "import seaborn as sns\n",
        "import numpy as np\n",
        "import pandas as pd\n",
        "import regex as re\n",
        "from sklearn.decomposition import PCA\n",
        "from sklearn.feature_extraction.text import TfidfVectorizer\n",
        "import plotly.express as px\n",
        "import underthesea"
      ]
    },
    {
      "cell_type": "code",
      "execution_count": null,
      "metadata": {
        "colab": {
          "base_uri": "https://localhost:8080/"
        },
        "id": "K5N7H3KDlV0G",
        "outputId": "0d0b7204-e595-4566-8b61-2df5a05751f7"
      },
      "outputs": [],
      "source": [
        "# Extract transfer note from df\n",
        "transactions_csv = pd.read_csv(\"transactions.csv\")\n",
        "notes_data = transactions_csv['Description'].tolist()\n",
        "notes_data"
      ]
    },
    {
      "cell_type": "code",
      "execution_count": null,
      "metadata": {
        "colab": {
          "base_uri": "https://localhost:8080/",
          "height": 423
        },
        "id": "jFQKHvzinkU6",
        "outputId": "145f3f02-6fe1-4795-cd72-ba02db470c5c"
      },
      "outputs": [],
      "source": [
        "# convert to pf to clean\n",
        "notes_csv = pd.DataFrame(notes_data,columns=[\"original_note\"])\n",
        "notes_csv"
      ]
    },
    {
      "cell_type": "markdown",
      "metadata": {
        "id": "QrZT1s52UI7I"
      },
      "source": [
        "## Preprocess bank transfer notes"
      ]
    },
    {
      "cell_type": "code",
      "execution_count": null,
      "metadata": {
        "colab": {
          "base_uri": "https://localhost:8080/"
        },
        "id": "y5_2BDFEzJZy",
        "outputId": "0699f0a4-0ed8-4e05-f572-a319f224f3c4"
      },
      "outputs": [],
      "source": [
        "!pip install -U sentence-transformers\n",
        "!pip install -q pyvi"
      ]
    },
    {
      "cell_type": "code",
      "execution_count": null,
      "metadata": {
        "id": "6aDYyMXKq71j"
      },
      "outputs": [],
      "source": [
        "from sklearn.metrics import silhouette_score\n",
        "from sklearn.cluster import KMeans\n",
        "import matplotlib.pyplot as plt\n",
        "import seaborn as sns\n",
        "import numpy as np\n",
        "import pandas as pd\n",
        "import regex as re\n",
        "from spacy.lang.vi import Vietnamese\n",
        "from sklearn.decomposition import PCA\n",
        "from sklearn.feature_extraction.text import TfidfVectorizer\n",
        "import plotly.express as px\n"
      ]
    },
    {
      "cell_type": "code",
      "execution_count": null,
      "metadata": {
        "id": "cE3LLiH5jyU8"
      },
      "outputs": [],
      "source": [
        "# Function to clean the notes\n",
        "def preprocess_text(text: str) -> str:\n",
        "    global tokens\n",
        "    # remove special chars and numbers\n",
        "    text = re.sub(\"[^A-Za-z]+\", \" \", text)\n",
        "\n",
        "    # tokenize\n",
        "    token = underthesea.word_tokenize(text)\n",
        "    text = \" \".join(token)\n",
        "    text = text.lower().strip()\n",
        "    return text"
      ]
    },
    {
      "cell_type": "code",
      "execution_count": null,
      "metadata": {
        "colab": {
          "base_uri": "https://localhost:8080/",
          "height": 373
        },
        "id": "bZiyzfvOCjZ2",
        "outputId": "ac55675e-78e8-4f2f-aeb1-6553e14c32cd"
      },
      "outputs": [],
      "source": [
        "notes_csv['cleaned_note'] = notes_csv['original_note'].apply(lambda text: preprocess_text(text))\n",
        "notes_csv = notes_csv[notes_csv['cleaned_note'] != '']\n",
        "notes_csv"
      ]
    },
    {
      "cell_type": "code",
      "execution_count": null,
      "metadata": {
        "colab": {
          "background_save": true
        },
        "id": "P4qHa5Li0Y40"
      },
      "outputs": [],
      "source": [
        "tokens = []\n",
        "for note in notes_csv['original_note'].tolist():\n",
        "  # remove special chars and numbers\n",
        "  note = re.sub(\"[^A-Za-z]+\", \" \", note)\n",
        "  token = underthesea.word_tokenize(note)\n",
        "  tokens += token"
      ]
    },
    {
      "cell_type": "code",
      "execution_count": null,
      "metadata": {
        "colab": {
          "base_uri": "https://localhost:8080/",
          "height": 423
        },
        "id": "77hoynP82ST7",
        "outputId": "d89f9cab-9e49-4bb2-d508-34875b3df95a"
      },
      "outputs": [],
      "source": [
        "tokens_freq = pd.DataFrame(tokens, columns=[\"Token\"])[\"Token\"].value_counts().reset_index()\n",
        "tokens_freq"
      ]
    },
    {
      "cell_type": "code",
      "execution_count": null,
      "metadata": {
        "colab": {
          "base_uri": "https://localhost:8080/",
          "height": 581
        },
        "id": "RKR6M1Oz3un6",
        "outputId": "3cc6f6ba-a3b2-4b54-c6b1-a938a05cb97c"
      },
      "outputs": [],
      "source": [
        "plt.figure(figsize=(10, 5))\n",
        "\n",
        "# creating the bar plot\n",
        "plt.title('Top 20 các từ thông dụng trong note chuyển khoản cho MTTQ 1/9/2024 - 2/9/2024', fontsize=16, pad=20)\n",
        "sns.barplot(x=tokens_freq['Token'][:20],y= tokens_freq['count'][:20],palette='Blues_d')\n",
        "plt.xlabel(\"Token\")\n",
        "plt.ylabel(\"count\")\n",
        "plt.tight_layout()\n",
        "plt.xticks(rotation=45, ha='right')\n",
        "plt.show()"
      ]
    },
    {
      "cell_type": "code",
      "execution_count": null,
      "metadata": {
        "id": "WcnT2Corwlft"
      },
      "outputs": [],
      "source": [
        "words = []\n",
        "for note in notes_csv['cleaned_notes'].tolist():\n",
        "  word = word_tokenize(note)\n",
        "  words += word"
      ]
    },
    {
      "cell_type": "code",
      "execution_count": null,
      "metadata": {
        "colab": {
          "base_uri": "https://localhost:8080/",
          "height": 423
        },
        "id": "HbVdVORFxP23",
        "outputId": "4a463625-0355-4af1-8b07-7e37216bea5d"
      },
      "outputs": [],
      "source": [
        "words_csv = pd.DataFrame(words, columns=[\"word\"])\n",
        "words_csv"
      ]
    },
    {
      "cell_type": "code",
      "execution_count": null,
      "metadata": {
        "colab": {
          "base_uri": "https://localhost:8080/",
          "height": 423
        },
        "id": "AX7WMGcnxwb3",
        "outputId": "b15fe59e-bbb6-48f9-ec7b-d02a427aed47"
      },
      "outputs": [],
      "source": [
        "word_freq = words_csv['word'].value_counts().sort_values(ascending=False).reset_index()\n",
        "word_freq"
      ]
    },
    {
      "cell_type": "markdown",
      "metadata": {
        "id": "B8lJrC2E0veb"
      },
      "source": [
        "## Convert to embeddings"
      ]
    },
    {
      "cell_type": "code",
      "execution_count": null,
      "metadata": {
        "colab": {
          "base_uri": "https://localhost:8080/",
          "height": 423
        },
        "id": "UqVy7YCAq358",
        "outputId": "f3677b92-4440-43b9-8310-56defa6dc0f9"
      },
      "outputs": [],
      "source": [
        "notes_csv = pd.read_csv(\"/content/drive/MyDrive/Coding projects/Analyze MTTQ bank transfer/tokens_frequency.csv\",index_col=0)\n",
        "notes_csv.dropna()\n",
        "notes_csv"
      ]
    },
    {
      "cell_type": "code",
      "execution_count": null,
      "metadata": {
        "id": "dIQtZnFwq0FS"
      },
      "outputs": [],
      "source": [
        "# tfidf\n",
        "vectorizer = TfidfVectorizer(sublinear_tf=True)\n",
        "X_tfidf = vectorizer.fit_transform(notes_csv['Token'].astype('str')).toarray()"
      ]
    },
    {
      "cell_type": "code",
      "execution_count": null,
      "metadata": {
        "id": "GasIXkCYvx0H"
      },
      "outputs": [],
      "source": [
        "# dang van tuan\n",
        "from sentence_transformers import SentenceTransformer\n",
        "from pyvi.ViTokenizer import tokenize\n",
        "\n",
        "model = SentenceTransformer('dangvantuan/vietnamese-embedding')\n",
        "X_dangvantuan = model.encode(notes_csv['Token'].astype('str'))\n"
      ]
    },
    {
      "cell_type": "markdown",
      "metadata": {
        "id": "G-Nz2v2ErRPs"
      },
      "source": [
        "## Visualize with PCA"
      ]
    },
    {
      "cell_type": "code",
      "execution_count": null,
      "metadata": {
        "id": "rFGeYSO3rDb9"
      },
      "outputs": [],
      "source": [
        "def dimension_reduction(text,embedding, n_components):\n",
        "    df = pd.DataFrame({'word': text,})\n",
        "    pca = PCA(n_components=n_components, random_state=42)\n",
        "\n",
        "    pca_vecs = pca.fit_transform(embedding)\n",
        "\n",
        "    # save our two dimensions into the result df\n",
        "    for i in range(n_components):\n",
        "      x = pca_vecs[:, i]\n",
        "      df[f'x{i}'] = x\n",
        "    return df"
      ]
    },
    {
      "cell_type": "code",
      "execution_count": null,
      "metadata": {
        "id": "1c2mg_hlrhBb"
      },
      "outputs": [],
      "source": [
        "def plot_pca_3d(result_df, method):\n",
        "\n",
        "    fig = px.scatter_3d(result_df, x='x0', y='x1', z='x2', hover_name='word',\n",
        "              range_x = [result_df.x0.min()-1, result_df.x0.max()+1],\n",
        "              range_y = [result_df.x1.min()-1, result_df.x1.max()+1],\n",
        "              range_z = [result_df.x2.min()-1, result_df.x2.max()+1],\n",
        "                        title=f\"Relationship between words using {method}\")\n",
        "\n",
        "    fig.update_traces(hovertemplate= '<b>%{hovertext}</b>')\n",
        "    fig.show()"
      ]
    },
    {
      "cell_type": "code",
      "execution_count": null,
      "metadata": {
        "colab": {
          "base_uri": "https://localhost:8080/",
          "height": 423
        },
        "id": "0Vf98Xws3LMN",
        "outputId": "d09d15ff-2c65-4b10-f5bf-ec31233c5936"
      },
      "outputs": [],
      "source": [
        "tfidf_res_df = dimension_reduction(notes_csv['Token'].astype('str').tolist(),X_tfidf,3)\n",
        "tfidf_res_df"
      ]
    },
    {
      "cell_type": "code",
      "execution_count": null,
      "metadata": {
        "colab": {
          "base_uri": "https://localhost:8080/",
          "height": 542
        },
        "id": "20TVOW9qrfyx",
        "outputId": "772e07a3-33a0-4ecd-ed21-cdd8f176826d"
      },
      "outputs": [],
      "source": [
        "plot_pca_3d(tfidf_res_df, \"TFIDF\")"
      ]
    },
    {
      "cell_type": "code",
      "execution_count": null,
      "metadata": {
        "id": "zwNXzARaw1u7"
      },
      "outputs": [],
      "source": [
        "vn_result_df = dimension_reduction(notes_csv['Token'].astype('str').tolist(),X_dangvantuan,3)"
      ]
    },
    {
      "cell_type": "code",
      "execution_count": null,
      "metadata": {
        "colab": {
          "base_uri": "https://localhost:8080/",
          "height": 542
        },
        "id": "VH8o2epZ0Ngv",
        "outputId": "c2cf7043-783a-472e-a1f1-580fefb67f4d"
      },
      "outputs": [],
      "source": [
        "plot_pca_3d(vn_result_df, \"Dang Van Tuan Vietnamese Embeddings\")"
      ]
    },
    {
      "cell_type": "markdown",
      "metadata": {
        "id": "hMmWCTio_tOI"
      },
      "source": [
        "## Find k cluster"
      ]
    },
    {
      "cell_type": "code",
      "execution_count": null,
      "metadata": {
        "colab": {
          "base_uri": "https://localhost:8080/"
        },
        "id": "ju6vN0n4eKmo",
        "outputId": "7d0e1333-260e-4d84-f772-a6980aa7a2cd"
      },
      "outputs": [],
      "source": [
        "kmeans = KMeans(n_clusters=3, random_state=42)\n",
        "\n",
        "# fit the model\n",
        "kmeans.fit(X_tfidf)\n",
        "\n",
        "# store cluster labels in a variable\n",
        "clusters = kmeans.labels_\n",
        "\n",
        "# Assign clusters to our dataframe\n",
        "clusters_result_name = 'cluster_tfidf'\n"
      ]
    },
    {
      "cell_type": "code",
      "execution_count": null,
      "metadata": {
        "id": "5twMt7xCfYJK"
      },
      "outputs": [],
      "source": [
        "tfidf_res_df[clusters_result_name] = clusters\n"
      ]
    },
    {
      "cell_type": "code",
      "execution_count": null,
      "metadata": {
        "colab": {
          "background_save": true,
          "base_uri": "https://localhost:8080/",
          "height": 542
        },
        "id": "kYu7X2RF8N0K",
        "outputId": "64204f28-480d-4e1d-b3cd-f0a5c2fe936b"
      },
      "outputs": [],
      "source": [
        "fig = px.scatter_3d(tfidf_res_df, x='x0', y='x1', z='x2', hover_name='word',\n",
        "              range_x = [tfidf_res_df.x0.min()-1, tfidf_res_df.x0.max()+1],\n",
        "              range_y = [tfidf_res_df.x1.min()-1, tfidf_res_df.x1.max()+1],\n",
        "              range_z = [tfidf_res_df.x2.min()-1, tfidf_res_df.x2.max()+1],\n",
        "                        title=f\"Relationship between words using TFDIF and KNN\",\n",
        "                    color='cluster_tfidf')\n",
        "\n",
        "fig.update_traces(hovertemplate= '<b>%{hovertext}</b>')\n",
        "fig.show()"
      ]
    }
  ],
  "metadata": {
    "accelerator": "GPU",
    "colab": {
      "gpuType": "A100",
      "provenance": [],
      "toc_visible": true
    },
    "kernelspec": {
      "display_name": "Python 3",
      "name": "python3"
    },
    "language_info": {
      "codemirror_mode": {
        "name": "ipython",
        "version": 3
      },
      "file_extension": ".py",
      "mimetype": "text/x-python",
      "name": "python",
      "nbconvert_exporter": "python",
      "pygments_lexer": "ipython3",
      "version": "3.11.2"
    }
  },
  "nbformat": 4,
  "nbformat_minor": 0
}
